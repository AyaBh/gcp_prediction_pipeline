{
 "cells": [
  {
   "cell_type": "code",
   "execution_count": 1,
   "id": "ed3f7dd6-f328-476d-b938-e12fff4d056c",
   "metadata": {},
   "outputs": [],
   "source": [
    "import pandas as pd\n",
    "from sklearn.model_selection import train_test_split\n",
    "from sklearn.ensemble  import RandomForestRegressor\n",
    "from sklearn.metrics import mean_squared_error, r2_score\n",
    "import numpy as np\n",
    "import pickle\n",
    "from google.cloud import storage"
   ]
  },
  {
   "cell_type": "code",
   "execution_count": 2,
   "id": "4196399c-29b0-4d50-bbaf-561de8350f6d",
   "metadata": {},
   "outputs": [],
   "source": [
    "bucket_name = 'BUCKET_NAME'\n",
    "file_name = 'ESGI/data_prepare.csv'\n",
    "client = storage.Client()\n",
    "bucket = client.bucket(bucket_name)\n",
    "blob = bucket.blob(file_name)"
   ]
  },
  {
   "cell_type": "code",
   "execution_count": 3,
   "id": "6b83cdfd-057c-4b27-8975-4ee0ce034b82",
   "metadata": {},
   "outputs": [],
   "source": [
    "blob.download_to_filename('data_prepare.csv')\n",
    "df = pd.read_csv('data_prepare.csv', sep=',')"
   ]
  },
  {
   "cell_type": "code",
   "execution_count": 4,
   "id": "9d850835-4728-46bc-ab19-490d4fea026c",
   "metadata": {},
   "outputs": [
    {
     "data": {
      "text/html": [
       "<div>\n",
       "<style scoped>\n",
       "    .dataframe tbody tr th:only-of-type {\n",
       "        vertical-align: middle;\n",
       "    }\n",
       "\n",
       "    .dataframe tbody tr th {\n",
       "        vertical-align: top;\n",
       "    }\n",
       "\n",
       "    .dataframe thead th {\n",
       "        text-align: right;\n",
       "    }\n",
       "</style>\n",
       "<table border=\"1\" class=\"dataframe\">\n",
       "  <thead>\n",
       "    <tr style=\"text-align: right;\">\n",
       "      <th></th>\n",
       "      <th>valeur</th>\n",
       "      <th>Latitude</th>\n",
       "      <th>Longitude</th>\n",
       "      <th>type d'implantation</th>\n",
       "      <th>type d'influence</th>\n",
       "      <th>Year</th>\n",
       "      <th>Month</th>\n",
       "      <th>Day</th>\n",
       "    </tr>\n",
       "  </thead>\n",
       "  <tbody>\n",
       "    <tr>\n",
       "      <th>0</th>\n",
       "      <td>0.0</td>\n",
       "      <td>49.119442</td>\n",
       "      <td>6.180833</td>\n",
       "      <td>1</td>\n",
       "      <td>1</td>\n",
       "      <td>2022</td>\n",
       "      <td>8</td>\n",
       "      <td>1</td>\n",
       "    </tr>\n",
       "    <tr>\n",
       "      <th>1</th>\n",
       "      <td>7.0</td>\n",
       "      <td>49.110283</td>\n",
       "      <td>6.223336</td>\n",
       "      <td>1</td>\n",
       "      <td>1</td>\n",
       "      <td>2022</td>\n",
       "      <td>8</td>\n",
       "      <td>1</td>\n",
       "    </tr>\n",
       "    <tr>\n",
       "      <th>2</th>\n",
       "      <td>10.0</td>\n",
       "      <td>48.915000</td>\n",
       "      <td>6.058336</td>\n",
       "      <td>1</td>\n",
       "      <td>1</td>\n",
       "      <td>2022</td>\n",
       "      <td>8</td>\n",
       "      <td>1</td>\n",
       "    </tr>\n",
       "    <tr>\n",
       "      <th>3</th>\n",
       "      <td>7.0</td>\n",
       "      <td>49.368610</td>\n",
       "      <td>6.160831</td>\n",
       "      <td>1</td>\n",
       "      <td>1</td>\n",
       "      <td>2022</td>\n",
       "      <td>8</td>\n",
       "      <td>1</td>\n",
       "    </tr>\n",
       "    <tr>\n",
       "      <th>4</th>\n",
       "      <td>11.0</td>\n",
       "      <td>49.358337</td>\n",
       "      <td>6.156942</td>\n",
       "      <td>1</td>\n",
       "      <td>1</td>\n",
       "      <td>2022</td>\n",
       "      <td>8</td>\n",
       "      <td>1</td>\n",
       "    </tr>\n",
       "    <tr>\n",
       "      <th>...</th>\n",
       "      <td>...</td>\n",
       "      <td>...</td>\n",
       "      <td>...</td>\n",
       "      <td>...</td>\n",
       "      <td>...</td>\n",
       "      <td>...</td>\n",
       "      <td>...</td>\n",
       "      <td>...</td>\n",
       "    </tr>\n",
       "    <tr>\n",
       "      <th>226115</th>\n",
       "      <td>10.0</td>\n",
       "      <td>47.294640</td>\n",
       "      <td>6.825861</td>\n",
       "      <td>5</td>\n",
       "      <td>1</td>\n",
       "      <td>2023</td>\n",
       "      <td>9</td>\n",
       "      <td>30</td>\n",
       "    </tr>\n",
       "    <tr>\n",
       "      <th>226116</th>\n",
       "      <td>14.0</td>\n",
       "      <td>47.096720</td>\n",
       "      <td>5.496389</td>\n",
       "      <td>1</td>\n",
       "      <td>1</td>\n",
       "      <td>2023</td>\n",
       "      <td>9</td>\n",
       "      <td>30</td>\n",
       "    </tr>\n",
       "    <tr>\n",
       "      <th>226117</th>\n",
       "      <td>12.0</td>\n",
       "      <td>47.147250</td>\n",
       "      <td>5.556117</td>\n",
       "      <td>2</td>\n",
       "      <td>2</td>\n",
       "      <td>2023</td>\n",
       "      <td>9</td>\n",
       "      <td>30</td>\n",
       "    </tr>\n",
       "    <tr>\n",
       "      <th>226118</th>\n",
       "      <td>12.0</td>\n",
       "      <td>47.620022</td>\n",
       "      <td>6.157642</td>\n",
       "      <td>1</td>\n",
       "      <td>1</td>\n",
       "      <td>2023</td>\n",
       "      <td>9</td>\n",
       "      <td>30</td>\n",
       "    </tr>\n",
       "    <tr>\n",
       "      <th>226119</th>\n",
       "      <td>12.0</td>\n",
       "      <td>47.351288</td>\n",
       "      <td>6.359722</td>\n",
       "      <td>1</td>\n",
       "      <td>3</td>\n",
       "      <td>2023</td>\n",
       "      <td>9</td>\n",
       "      <td>30</td>\n",
       "    </tr>\n",
       "  </tbody>\n",
       "</table>\n",
       "<p>226120 rows × 8 columns</p>\n",
       "</div>"
      ],
      "text/plain": [
       "        valeur   Latitude  Longitude  type d'implantation  type d'influence  \\\n",
       "0          0.0  49.119442   6.180833                    1                 1   \n",
       "1          7.0  49.110283   6.223336                    1                 1   \n",
       "2         10.0  48.915000   6.058336                    1                 1   \n",
       "3          7.0  49.368610   6.160831                    1                 1   \n",
       "4         11.0  49.358337   6.156942                    1                 1   \n",
       "...        ...        ...        ...                  ...               ...   \n",
       "226115    10.0  47.294640   6.825861                    5                 1   \n",
       "226116    14.0  47.096720   5.496389                    1                 1   \n",
       "226117    12.0  47.147250   5.556117                    2                 2   \n",
       "226118    12.0  47.620022   6.157642                    1                 1   \n",
       "226119    12.0  47.351288   6.359722                    1                 3   \n",
       "\n",
       "        Year  Month  Day  \n",
       "0       2022      8    1  \n",
       "1       2022      8    1  \n",
       "2       2022      8    1  \n",
       "3       2022      8    1  \n",
       "4       2022      8    1  \n",
       "...      ...    ...  ...  \n",
       "226115  2023      9   30  \n",
       "226116  2023      9   30  \n",
       "226117  2023      9   30  \n",
       "226118  2023      9   30  \n",
       "226119  2023      9   30  \n",
       "\n",
       "[226120 rows x 8 columns]"
      ]
     },
     "execution_count": 4,
     "metadata": {},
     "output_type": "execute_result"
    }
   ],
   "source": [
    "df"
   ]
  },
  {
   "cell_type": "code",
   "execution_count": 5,
   "id": "e6e0c749-b57b-486d-be0e-c51e59b43790",
   "metadata": {},
   "outputs": [],
   "source": [
    "X=df.drop(['valeur'],axis=1)\n",
    "y = df['valeur']"
   ]
  },
  {
   "cell_type": "code",
   "execution_count": 6,
   "id": "dd83311a-52af-448d-9a14-9bc6f7f8ace8",
   "metadata": {},
   "outputs": [],
   "source": [
    "X_train, X_test, y_train, y_test = train_test_split(X, y, test_size=0.2, random_state=42)"
   ]
  },
  {
   "cell_type": "code",
   "execution_count": 8,
   "id": "ec7748ee-96ac-4561-8f0d-2086c22955a3",
   "metadata": {},
   "outputs": [
    {
     "data": {
      "text/plain": [
       "RandomForestRegressor()"
      ]
     },
     "execution_count": 8,
     "metadata": {},
     "output_type": "execute_result"
    }
   ],
   "source": [
    "model =RandomForestRegressor()\n",
    "model.fit(X_train, y_train)"
   ]
  },
  {
   "cell_type": "code",
   "execution_count": 9,
   "id": "9f795940-3a53-4bd9-9108-8f44ba756789",
   "metadata": {},
   "outputs": [],
   "source": [
    "predictions = model.predict(X_test)"
   ]
  },
  {
   "cell_type": "code",
   "execution_count": 10,
   "id": "5ed71cec-2023-4289-8a6f-95e0c3222852",
   "metadata": {},
   "outputs": [
    {
     "name": "stdout",
     "output_type": "stream",
     "text": [
      "Mean Squared Error (MSE): 22.781867539359634\n",
      "R-squared (R2): 0.787445693773372\n"
     ]
    }
   ],
   "source": [
    "mse = mean_squared_error(y_test, predictions)\n",
    "r2 = r2_score(y_test, predictions)\n",
    "\n",
    "# Afficher les métriques\n",
    "print(f'Mean Squared Error (MSE): {mse}')\n",
    "print(f'R-squared (R2): {r2}')"
   ]
  },
  {
   "cell_type": "code",
   "execution_count": 12,
   "id": "91bae08d-b791-4a9c-b806-3ecfdd3cec29",
   "metadata": {},
   "outputs": [],
   "source": [
    "with open('model', 'wb') as f:\n",
    "    pickle.dump(model, f)"
   ]
  },
  {
   "cell_type": "code",
   "execution_count": 30,
   "id": "b756f583-34c5-4633-a26f-e7d2ac05527d",
   "metadata": {},
   "outputs": [],
   "source": [
    "pickle_blob = bucket.blob('BUCKET_NAME')\n",
    "pickle_blob.upload_from_filename('model')"
   ]
  },
  {
   "cell_type": "code",
   "execution_count": 27,
   "id": "b5318364-2112-4dde-b729-c1f31fd06e29",
   "metadata": {},
   "outputs": [],
   "source": [
    "test=pd.concat([X_test+y_test], axis=1)"
   ]
  },
  {
   "cell_type": "code",
   "execution_count": 19,
   "id": "7b317858-70d3-4c78-9767-21560190e172",
   "metadata": {},
   "outputs": [],
   "source": [
    "csv_filename = 'FILE_NAME'\n",
    "X_test.to_csv(csv_filename, index=False)"
   ]
  },
  {
   "cell_type": "code",
   "execution_count": 20,
   "id": "3e5269aa-b372-4e48-b4a3-586eddc1386f",
   "metadata": {},
   "outputs": [],
   "source": [
    "csv_blob = bucket.blob('FILE_NAME')\n",
    "csv_blob.upload_from_filename('FILE_NAME')"
   ]
  },
  {
   "cell_type": "code",
   "execution_count": null,
   "id": "1005968a-9238-4fbe-9529-8e457341a3ae",
   "metadata": {},
   "outputs": [],
   "source": []
  }
 ],
 "metadata": {
  "kernelspec": {
   "display_name": "Python (Local)",
   "language": "python",
   "name": "local-base"
  },
  "language_info": {
   "codemirror_mode": {
    "name": "ipython",
    "version": 3
   },
   "file_extension": ".py",
   "mimetype": "text/x-python",
   "name": "python",
   "nbconvert_exporter": "python",
   "pygments_lexer": "ipython3",
   "version": "3.7.12"
  }
 },
 "nbformat": 4,
 "nbformat_minor": 5
}
